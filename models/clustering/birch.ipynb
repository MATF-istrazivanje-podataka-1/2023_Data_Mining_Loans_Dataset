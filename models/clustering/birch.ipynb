{
 "cells": [
  {
   "cell_type": "code",
   "execution_count": 1,
   "metadata": {},
   "outputs": [],
   "source": [
    "import numpy as np\n",
    "import matplotlib.pyplot as plt\n",
    "import pandas as pd\n",
    "import seaborn as sns\n",
    "from joblib import load"
   ]
  },
  {
   "cell_type": "code",
   "execution_count": 2,
   "metadata": {},
   "outputs": [],
   "source": [
    "X, y = load('../../preprocessing/clustering_data.joblib')"
   ]
  },
  {
   "cell_type": "code",
   "execution_count": 3,
   "metadata": {},
   "outputs": [
    {
     "name": "stdout",
     "output_type": "stream",
     "text": [
      "<class 'pandas.core.frame.DataFrame'>\n",
      "RangeIndex: 142913 entries, 0 to 142912\n",
      "Data columns (total 75 columns):\n",
      " #   Column                             Non-Null Count   Dtype  \n",
      "---  ------                             --------------   -----  \n",
      " 0   ID                                 142913 non-null  float64\n",
      " 1   year                               142913 non-null  float64\n",
      " 2   loan_amount                        142913 non-null  float64\n",
      " 3   rate_of_interest                   142913 non-null  float64\n",
      " 4   Interest_rate_spread               142913 non-null  float64\n",
      " 5   Upfront_charges                    142913 non-null  float64\n",
      " 6   property_value                     142913 non-null  float64\n",
      " 7   income                             142913 non-null  float64\n",
      " 8   Credit_Score                       142913 non-null  float64\n",
      " 9   LTV                                142913 non-null  float64\n",
      " 10  dtir1                              142913 non-null  float64\n",
      " 11  loan_limit_ncf                     142913 non-null  float64\n",
      " 12  Gender_Joint                       142913 non-null  float64\n",
      " 13  Gender_Male                        142913 non-null  float64\n",
      " 14  approv_in_adv_pre                  142913 non-null  float64\n",
      " 15  loan_type_type2                    142913 non-null  float64\n",
      " 16  loan_type_type3                    142913 non-null  float64\n",
      " 17  loan_purpose_p2                    142913 non-null  float64\n",
      " 18  loan_purpose_p3                    142913 non-null  float64\n",
      " 19  loan_purpose_p4                    142913 non-null  float64\n",
      " 20  Credit_Worthiness_l2               142913 non-null  float64\n",
      " 21  open_credit_opc                    142913 non-null  float64\n",
      " 22  business_or_commercial_nob/c       142913 non-null  float64\n",
      " 23  Neg_ammortization_not_neg          142913 non-null  float64\n",
      " 24  interest_only_not_int              142913 non-null  float64\n",
      " 25  lump_sum_payment_not_lpsm          142913 non-null  float64\n",
      " 26  construction_type_sb               142913 non-null  float64\n",
      " 27  occupancy_type_pr                  142913 non-null  float64\n",
      " 28  occupancy_type_sr                  142913 non-null  float64\n",
      " 29  Secured_by_land                    142913 non-null  float64\n",
      " 30  total_units_2U                     142913 non-null  float64\n",
      " 31  total_units_3U                     142913 non-null  float64\n",
      " 32  total_units_4U                     142913 non-null  float64\n",
      " 33  credit_type_CRIF                   142913 non-null  float64\n",
      " 34  credit_type_EQUI                   142913 non-null  float64\n",
      " 35  credit_type_EXP                    142913 non-null  float64\n",
      " 36  co-applicant_credit_type_EXP       142913 non-null  float64\n",
      " 37  age_35-44                          142913 non-null  float64\n",
      " 38  age_45-54                          142913 non-null  float64\n",
      " 39  age_55-64                          142913 non-null  float64\n",
      " 40  age_65-74                          142913 non-null  float64\n",
      " 41  age_<25                            142913 non-null  float64\n",
      " 42  age_>74                            142913 non-null  float64\n",
      " 43  submission_of_application_to_inst  142913 non-null  float64\n",
      " 44  Region_North-East                  142913 non-null  float64\n",
      " 45  Region_central                     142913 non-null  float64\n",
      " 46  Region_south                       142913 non-null  float64\n",
      " 47  Security_Type_direct               142913 non-null  float64\n",
      " 48  term_108.0                         142913 non-null  float64\n",
      " 49  term_120.0                         142913 non-null  float64\n",
      " 50  term_132.0                         142913 non-null  float64\n",
      " 51  term_144.0                         142913 non-null  float64\n",
      " 52  term_156.0                         142913 non-null  float64\n",
      " 53  term_165.0                         142913 non-null  float64\n",
      " 54  term_168.0                         142913 non-null  float64\n",
      " 55  term_180.0                         142913 non-null  float64\n",
      " 56  term_192.0                         142913 non-null  float64\n",
      " 57  term_204.0                         142913 non-null  float64\n",
      " 58  term_216.0                         142913 non-null  float64\n",
      " 59  term_228.0                         142913 non-null  float64\n",
      " 60  term_240.0                         142913 non-null  float64\n",
      " 61  term_252.0                         142913 non-null  float64\n",
      " 62  term_260.0                         142913 non-null  float64\n",
      " 63  term_264.0                         142913 non-null  float64\n",
      " 64  term_276.0                         142913 non-null  float64\n",
      " 65  term_280.0                         142913 non-null  float64\n",
      " 66  term_288.0                         142913 non-null  float64\n",
      " 67  term_300.0                         142913 non-null  float64\n",
      " 68  term_312.0                         142913 non-null  float64\n",
      " 69  term_320.0                         142913 non-null  float64\n",
      " 70  term_322.0                         142913 non-null  float64\n",
      " 71  term_324.0                         142913 non-null  float64\n",
      " 72  term_336.0                         142913 non-null  float64\n",
      " 73  term_348.0                         142913 non-null  float64\n",
      " 74  term_360.0                         142913 non-null  float64\n",
      "dtypes: float64(75)\n",
      "memory usage: 81.8 MB\n"
     ]
    }
   ],
   "source": [
    "X.info()"
   ]
  },
  {
   "cell_type": "code",
   "execution_count": 4,
   "metadata": {},
   "outputs": [],
   "source": [
    "from sklearn.cluster import Birch"
   ]
  },
  {
   "cell_type": "code",
   "execution_count": 5,
   "metadata": {},
   "outputs": [
    {
     "data": {
      "text/plain": [
       "array([[ 1.30598778e+00,  1.85268015e-02],\n",
       "       [ 1.40880868e+00,  1.51514981e-01],\n",
       "       [-5.21244768e-02,  2.40695191e-04],\n",
       "       ...,\n",
       "       [-1.79675008e+00,  2.91283927e-02],\n",
       "       [ 6.00143419e-01, -1.42484195e-01],\n",
       "       [ 7.31623849e-01, -2.61476959e-01]])"
      ]
     },
     "execution_count": 5,
     "metadata": {},
     "output_type": "execute_result"
    }
   ],
   "source": [
    "from sklearn.decomposition import PCA\n",
    "pca = PCA(n_components=2)\n",
    "X_pca = pca.fit_transform(X)\n",
    "X_pca"
   ]
  },
  {
   "cell_type": "code",
   "execution_count": 6,
   "metadata": {},
   "outputs": [],
   "source": [
    "X_pca = pd.DataFrame(X_pca, columns=['PC1', 'PC2'])"
   ]
  },
  {
   "cell_type": "code",
   "execution_count": 7,
   "metadata": {},
   "outputs": [
    {
     "data": {
      "text/html": [
       "<div>\n",
       "<style scoped>\n",
       "    .dataframe tbody tr th:only-of-type {\n",
       "        vertical-align: middle;\n",
       "    }\n",
       "\n",
       "    .dataframe tbody tr th {\n",
       "        vertical-align: top;\n",
       "    }\n",
       "\n",
       "    .dataframe thead th {\n",
       "        text-align: right;\n",
       "    }\n",
       "</style>\n",
       "<table border=\"1\" class=\"dataframe\">\n",
       "  <thead>\n",
       "    <tr style=\"text-align: right;\">\n",
       "      <th></th>\n",
       "      <th>PC1</th>\n",
       "      <th>PC2</th>\n",
       "    </tr>\n",
       "  </thead>\n",
       "  <tbody>\n",
       "    <tr>\n",
       "      <th>0</th>\n",
       "      <td>1.305988</td>\n",
       "      <td>0.018527</td>\n",
       "    </tr>\n",
       "    <tr>\n",
       "      <th>1</th>\n",
       "      <td>1.408809</td>\n",
       "      <td>0.151515</td>\n",
       "    </tr>\n",
       "    <tr>\n",
       "      <th>2</th>\n",
       "      <td>-0.052124</td>\n",
       "      <td>0.000241</td>\n",
       "    </tr>\n",
       "    <tr>\n",
       "      <th>3</th>\n",
       "      <td>-1.559003</td>\n",
       "      <td>0.035716</td>\n",
       "    </tr>\n",
       "    <tr>\n",
       "      <th>4</th>\n",
       "      <td>-2.883897</td>\n",
       "      <td>0.142002</td>\n",
       "    </tr>\n",
       "  </tbody>\n",
       "</table>\n",
       "</div>"
      ],
      "text/plain": [
       "        PC1       PC2\n",
       "0  1.305988  0.018527\n",
       "1  1.408809  0.151515\n",
       "2 -0.052124  0.000241\n",
       "3 -1.559003  0.035716\n",
       "4 -2.883897  0.142002"
      ]
     },
     "execution_count": 7,
     "metadata": {},
     "output_type": "execute_result"
    }
   ],
   "source": [
    "X_pca.head()"
   ]
  },
  {
   "cell_type": "code",
   "execution_count": 8,
   "metadata": {},
   "outputs": [],
   "source": [
    "from sklearn.metrics import silhouette_score"
   ]
  },
  {
   "cell_type": "code",
   "execution_count": 9,
   "metadata": {},
   "outputs": [],
   "source": [
    "def visualize_clustering(centers, labels, features, alg_name):\n",
    "    plt.scatter(centers[:, 0], centers[:, 1], marker='X', label='centroids', color=\"black\")\n",
    "    plt.scatter(features[0], features[1], c = labels)\n",
    "    plt.xlabel(\"PC1\")\n",
    "    plt.ylabel(\"PC2\")\n",
    "    plt.title('{} {} clusters'.format(alg_name, len(centers)))\n",
    "    plt.show()"
   ]
  },
  {
   "cell_type": "code",
   "execution_count": 10,
   "metadata": {},
   "outputs": [
    {
     "ename": "MemoryError",
     "evalue": "Unable to allocate 74.6 GiB for an array with shape (10006243845,) and data type float64",
     "output_type": "error",
     "traceback": [
      "\u001b[0;31m---------------------------------------------------------------------------\u001b[0m",
      "\u001b[0;31mMemoryError\u001b[0m                               Traceback (most recent call last)",
      "Cell \u001b[0;32mIn[10], line 4\u001b[0m\n\u001b[1;32m      2\u001b[0m \u001b[39mfor\u001b[39;00m i \u001b[39min\u001b[39;00m \u001b[39mrange\u001b[39m(\u001b[39m2\u001b[39m, \u001b[39m7\u001b[39m):\n\u001b[1;32m      3\u001b[0m     model \u001b[39m=\u001b[39m Birch(n_clusters\u001b[39m=\u001b[39mi)\n\u001b[0;32m----> 4\u001b[0m     model\u001b[39m.\u001b[39;49mfit(X)\n\u001b[1;32m      5\u001b[0m     visualize_clustering(model\u001b[39m.\u001b[39mcluster_centers_, model\u001b[39m.\u001b[39mlabels_, [X_pca[:, \u001b[39m0\u001b[39m], X_pca[:, \u001b[39m1\u001b[39m]], \u001b[39m\"\u001b[39m\u001b[39mBirch\u001b[39m\u001b[39m\"\u001b[39m)\n\u001b[1;32m      6\u001b[0m     silhouettes\u001b[39m.\u001b[39mappend(silhouette_score(X, model\u001b[39m.\u001b[39mlabels_))\n",
      "File \u001b[0;32m~/.local/lib/python3.10/site-packages/sklearn/cluster/_birch.py:524\u001b[0m, in \u001b[0;36mBirch.fit\u001b[0;34m(self, X, y)\u001b[0m\n\u001b[1;32m    505\u001b[0m \u001b[39m\"\"\"\u001b[39;00m\n\u001b[1;32m    506\u001b[0m \u001b[39mBuild a CF Tree for the input data.\u001b[39;00m\n\u001b[1;32m    507\u001b[0m \n\u001b[0;32m   (...)\u001b[0m\n\u001b[1;32m    519\u001b[0m \u001b[39m    Fitted estimator.\u001b[39;00m\n\u001b[1;32m    520\u001b[0m \u001b[39m\"\"\"\u001b[39;00m\n\u001b[1;32m    522\u001b[0m \u001b[39mself\u001b[39m\u001b[39m.\u001b[39m_validate_params()\n\u001b[0;32m--> 524\u001b[0m \u001b[39mreturn\u001b[39;00m \u001b[39mself\u001b[39;49m\u001b[39m.\u001b[39;49m_fit(X, partial\u001b[39m=\u001b[39;49m\u001b[39mFalse\u001b[39;49;00m)\n",
      "File \u001b[0;32m~/.local/lib/python3.10/site-packages/sklearn/cluster/_birch.py:594\u001b[0m, in \u001b[0;36mBirch._fit\u001b[0;34m(self, X, partial)\u001b[0m\n\u001b[1;32m    591\u001b[0m \u001b[39mself\u001b[39m\u001b[39m.\u001b[39msubcluster_centers_ \u001b[39m=\u001b[39m centroids\n\u001b[1;32m    592\u001b[0m \u001b[39mself\u001b[39m\u001b[39m.\u001b[39m_n_features_out \u001b[39m=\u001b[39m \u001b[39mself\u001b[39m\u001b[39m.\u001b[39msubcluster_centers_\u001b[39m.\u001b[39mshape[\u001b[39m0\u001b[39m]\n\u001b[0;32m--> 594\u001b[0m \u001b[39mself\u001b[39;49m\u001b[39m.\u001b[39;49m_global_clustering(X)\n\u001b[1;32m    595\u001b[0m \u001b[39mreturn\u001b[39;00m \u001b[39mself\u001b[39m\n",
      "File \u001b[0;32m~/.local/lib/python3.10/site-packages/sklearn/cluster/_birch.py:736\u001b[0m, in \u001b[0;36mBirch._global_clustering\u001b[0;34m(self, X)\u001b[0m\n\u001b[1;32m    726\u001b[0m         warnings\u001b[39m.\u001b[39mwarn(\n\u001b[1;32m    727\u001b[0m             \u001b[39m\"\u001b[39m\u001b[39mNumber of subclusters found (\u001b[39m\u001b[39m%d\u001b[39;00m\u001b[39m) by BIRCH is less \u001b[39m\u001b[39m\"\u001b[39m\n\u001b[1;32m    728\u001b[0m             \u001b[39m\"\u001b[39m\u001b[39mthan (\u001b[39m\u001b[39m%d\u001b[39;00m\u001b[39m). Decrease the threshold.\u001b[39m\u001b[39m\"\u001b[39m\n\u001b[1;32m    729\u001b[0m             \u001b[39m%\u001b[39m (\u001b[39mlen\u001b[39m(centroids), \u001b[39mself\u001b[39m\u001b[39m.\u001b[39mn_clusters),\n\u001b[1;32m    730\u001b[0m             ConvergenceWarning,\n\u001b[1;32m    731\u001b[0m         )\n\u001b[1;32m    732\u001b[0m \u001b[39melse\u001b[39;00m:\n\u001b[1;32m    733\u001b[0m     \u001b[39m# The global clustering step that clusters the subclusters of\u001b[39;00m\n\u001b[1;32m    734\u001b[0m     \u001b[39m# the leaves. It assumes the centroids of the subclusters as\u001b[39;00m\n\u001b[1;32m    735\u001b[0m     \u001b[39m# samples and finds the final centroids.\u001b[39;00m\n\u001b[0;32m--> 736\u001b[0m     \u001b[39mself\u001b[39m\u001b[39m.\u001b[39msubcluster_labels_ \u001b[39m=\u001b[39m clusterer\u001b[39m.\u001b[39;49mfit_predict(\u001b[39mself\u001b[39;49m\u001b[39m.\u001b[39;49msubcluster_centers_)\n\u001b[1;32m    738\u001b[0m \u001b[39mif\u001b[39;00m compute_labels:\n\u001b[1;32m    739\u001b[0m     \u001b[39mself\u001b[39m\u001b[39m.\u001b[39mlabels_ \u001b[39m=\u001b[39m \u001b[39mself\u001b[39m\u001b[39m.\u001b[39m_predict(X)\n",
      "File \u001b[0;32m~/.local/lib/python3.10/site-packages/sklearn/cluster/_agglomerative.py:1099\u001b[0m, in \u001b[0;36mAgglomerativeClustering.fit_predict\u001b[0;34m(self, X, y)\u001b[0m\n\u001b[1;32m   1078\u001b[0m \u001b[39mdef\u001b[39;00m \u001b[39mfit_predict\u001b[39m(\u001b[39mself\u001b[39m, X, y\u001b[39m=\u001b[39m\u001b[39mNone\u001b[39;00m):\n\u001b[1;32m   1079\u001b[0m     \u001b[39m\"\"\"Fit and return the result of each sample's clustering assignment.\u001b[39;00m\n\u001b[1;32m   1080\u001b[0m \n\u001b[1;32m   1081\u001b[0m \u001b[39m    In addition to fitting, this method also return the result of the\u001b[39;00m\n\u001b[0;32m   (...)\u001b[0m\n\u001b[1;32m   1097\u001b[0m \u001b[39m        Cluster labels.\u001b[39;00m\n\u001b[1;32m   1098\u001b[0m \u001b[39m    \"\"\"\u001b[39;00m\n\u001b[0;32m-> 1099\u001b[0m     \u001b[39mreturn\u001b[39;00m \u001b[39msuper\u001b[39;49m()\u001b[39m.\u001b[39;49mfit_predict(X, y)\n",
      "File \u001b[0;32m~/.local/lib/python3.10/site-packages/sklearn/base.py:753\u001b[0m, in \u001b[0;36mClusterMixin.fit_predict\u001b[0;34m(self, X, y)\u001b[0m\n\u001b[1;32m    735\u001b[0m \u001b[39m\"\"\"\u001b[39;00m\n\u001b[1;32m    736\u001b[0m \u001b[39mPerform clustering on `X` and returns cluster labels.\u001b[39;00m\n\u001b[1;32m    737\u001b[0m \n\u001b[0;32m   (...)\u001b[0m\n\u001b[1;32m    749\u001b[0m \u001b[39m    Cluster labels.\u001b[39;00m\n\u001b[1;32m    750\u001b[0m \u001b[39m\"\"\"\u001b[39;00m\n\u001b[1;32m    751\u001b[0m \u001b[39m# non-optimized default implementation; override when a better\u001b[39;00m\n\u001b[1;32m    752\u001b[0m \u001b[39m# method is possible for a given clustering algorithm\u001b[39;00m\n\u001b[0;32m--> 753\u001b[0m \u001b[39mself\u001b[39;49m\u001b[39m.\u001b[39;49mfit(X)\n\u001b[1;32m    754\u001b[0m \u001b[39mreturn\u001b[39;00m \u001b[39mself\u001b[39m\u001b[39m.\u001b[39mlabels_\n",
      "File \u001b[0;32m~/.local/lib/python3.10/site-packages/sklearn/cluster/_agglomerative.py:956\u001b[0m, in \u001b[0;36mAgglomerativeClustering.fit\u001b[0;34m(self, X, y)\u001b[0m\n\u001b[1;32m    954\u001b[0m \u001b[39mself\u001b[39m\u001b[39m.\u001b[39m_validate_params()\n\u001b[1;32m    955\u001b[0m X \u001b[39m=\u001b[39m \u001b[39mself\u001b[39m\u001b[39m.\u001b[39m_validate_data(X, ensure_min_samples\u001b[39m=\u001b[39m\u001b[39m2\u001b[39m)\n\u001b[0;32m--> 956\u001b[0m \u001b[39mreturn\u001b[39;00m \u001b[39mself\u001b[39;49m\u001b[39m.\u001b[39;49m_fit(X)\n",
      "File \u001b[0;32m~/.local/lib/python3.10/site-packages/sklearn/cluster/_agglomerative.py:1046\u001b[0m, in \u001b[0;36mAgglomerativeClustering._fit\u001b[0;34m(self, X)\u001b[0m\n\u001b[1;32m   1042\u001b[0m distance_threshold \u001b[39m=\u001b[39m \u001b[39mself\u001b[39m\u001b[39m.\u001b[39mdistance_threshold\n\u001b[1;32m   1044\u001b[0m return_distance \u001b[39m=\u001b[39m (distance_threshold \u001b[39mis\u001b[39;00m \u001b[39mnot\u001b[39;00m \u001b[39mNone\u001b[39;00m) \u001b[39mor\u001b[39;00m \u001b[39mself\u001b[39m\u001b[39m.\u001b[39mcompute_distances\n\u001b[0;32m-> 1046\u001b[0m out \u001b[39m=\u001b[39m memory\u001b[39m.\u001b[39;49mcache(tree_builder)(\n\u001b[1;32m   1047\u001b[0m     X,\n\u001b[1;32m   1048\u001b[0m     connectivity\u001b[39m=\u001b[39;49mconnectivity,\n\u001b[1;32m   1049\u001b[0m     n_clusters\u001b[39m=\u001b[39;49mn_clusters,\n\u001b[1;32m   1050\u001b[0m     return_distance\u001b[39m=\u001b[39;49mreturn_distance,\n\u001b[1;32m   1051\u001b[0m     \u001b[39m*\u001b[39;49m\u001b[39m*\u001b[39;49mkwargs,\n\u001b[1;32m   1052\u001b[0m )\n\u001b[1;32m   1053\u001b[0m (\u001b[39mself\u001b[39m\u001b[39m.\u001b[39mchildren_, \u001b[39mself\u001b[39m\u001b[39m.\u001b[39mn_connected_components_, \u001b[39mself\u001b[39m\u001b[39m.\u001b[39mn_leaves_, parents) \u001b[39m=\u001b[39m out[\n\u001b[1;32m   1054\u001b[0m     :\u001b[39m4\u001b[39m\n\u001b[1;32m   1055\u001b[0m ]\n\u001b[1;32m   1057\u001b[0m \u001b[39mif\u001b[39;00m return_distance:\n",
      "File \u001b[0;32m~/.local/lib/python3.10/site-packages/joblib/memory.py:349\u001b[0m, in \u001b[0;36mNotMemorizedFunc.__call__\u001b[0;34m(self, *args, **kwargs)\u001b[0m\n\u001b[1;32m    348\u001b[0m \u001b[39mdef\u001b[39;00m \u001b[39m__call__\u001b[39m(\u001b[39mself\u001b[39m, \u001b[39m*\u001b[39margs, \u001b[39m*\u001b[39m\u001b[39m*\u001b[39mkwargs):\n\u001b[0;32m--> 349\u001b[0m     \u001b[39mreturn\u001b[39;00m \u001b[39mself\u001b[39;49m\u001b[39m.\u001b[39;49mfunc(\u001b[39m*\u001b[39;49margs, \u001b[39m*\u001b[39;49m\u001b[39m*\u001b[39;49mkwargs)\n",
      "File \u001b[0;32m~/.local/lib/python3.10/site-packages/sklearn/cluster/_agglomerative.py:273\u001b[0m, in \u001b[0;36mward_tree\u001b[0;34m(X, connectivity, n_clusters, return_distance)\u001b[0m\n\u001b[1;32m    263\u001b[0m     warnings\u001b[39m.\u001b[39mwarn(\n\u001b[1;32m    264\u001b[0m         \u001b[39m\"\u001b[39m\u001b[39mPartial build of the tree is implemented \u001b[39m\u001b[39m\"\u001b[39m\n\u001b[1;32m    265\u001b[0m         \u001b[39m\"\u001b[39m\u001b[39monly for structured clustering (i.e. with \u001b[39m\u001b[39m\"\u001b[39m\n\u001b[0;32m   (...)\u001b[0m\n\u001b[1;32m    270\u001b[0m         stacklevel\u001b[39m=\u001b[39m\u001b[39m2\u001b[39m,\n\u001b[1;32m    271\u001b[0m     )\n\u001b[1;32m    272\u001b[0m X \u001b[39m=\u001b[39m np\u001b[39m.\u001b[39mrequire(X, requirements\u001b[39m=\u001b[39m\u001b[39m\"\u001b[39m\u001b[39mW\u001b[39m\u001b[39m\"\u001b[39m)\n\u001b[0;32m--> 273\u001b[0m out \u001b[39m=\u001b[39m hierarchy\u001b[39m.\u001b[39;49mward(X)\n\u001b[1;32m    274\u001b[0m children_ \u001b[39m=\u001b[39m out[:, :\u001b[39m2\u001b[39m]\u001b[39m.\u001b[39mastype(np\u001b[39m.\u001b[39mintp)\n\u001b[1;32m    276\u001b[0m \u001b[39mif\u001b[39;00m return_distance:\n",
      "File \u001b[0;32m~/.local/lib/python3.10/site-packages/scipy/cluster/hierarchy.py:834\u001b[0m, in \u001b[0;36mward\u001b[0;34m(y)\u001b[0m\n\u001b[1;32m    738\u001b[0m \u001b[39mdef\u001b[39;00m \u001b[39mward\u001b[39m(y):\n\u001b[1;32m    739\u001b[0m     \u001b[39m\"\"\"\u001b[39;00m\n\u001b[1;32m    740\u001b[0m \u001b[39m    Perform Ward's linkage on a condensed distance matrix.\u001b[39;00m\n\u001b[1;32m    741\u001b[0m \n\u001b[0;32m   (...)\u001b[0m\n\u001b[1;32m    832\u001b[0m \n\u001b[1;32m    833\u001b[0m \u001b[39m    \"\"\"\u001b[39;00m\n\u001b[0;32m--> 834\u001b[0m     \u001b[39mreturn\u001b[39;00m linkage(y, method\u001b[39m=\u001b[39;49m\u001b[39m'\u001b[39;49m\u001b[39mward\u001b[39;49m\u001b[39m'\u001b[39;49m, metric\u001b[39m=\u001b[39;49m\u001b[39m'\u001b[39;49m\u001b[39meuclidean\u001b[39;49m\u001b[39m'\u001b[39;49m)\n",
      "File \u001b[0;32m~/.local/lib/python3.10/site-packages/scipy/cluster/hierarchy.py:1060\u001b[0m, in \u001b[0;36mlinkage\u001b[0;34m(y, method, metric, optimal_ordering)\u001b[0m\n\u001b[1;32m   1056\u001b[0m         \u001b[39mif\u001b[39;00m np\u001b[39m.\u001b[39mall(y \u001b[39m>\u001b[39m\u001b[39m=\u001b[39m \u001b[39m0\u001b[39m) \u001b[39mand\u001b[39;00m np\u001b[39m.\u001b[39mallclose(y, y\u001b[39m.\u001b[39mT):\n\u001b[1;32m   1057\u001b[0m             _warning(\u001b[39m'\u001b[39m\u001b[39mThe symmetric non-negative hollow observation \u001b[39m\u001b[39m'\u001b[39m\n\u001b[1;32m   1058\u001b[0m                      \u001b[39m'\u001b[39m\u001b[39mmatrix looks suspiciously like an uncondensed \u001b[39m\u001b[39m'\u001b[39m\n\u001b[1;32m   1059\u001b[0m                      \u001b[39m'\u001b[39m\u001b[39mdistance matrix\u001b[39m\u001b[39m'\u001b[39m)\n\u001b[0;32m-> 1060\u001b[0m     y \u001b[39m=\u001b[39m distance\u001b[39m.\u001b[39;49mpdist(y, metric)\n\u001b[1;32m   1061\u001b[0m \u001b[39melse\u001b[39;00m:\n\u001b[1;32m   1062\u001b[0m     \u001b[39mraise\u001b[39;00m \u001b[39mValueError\u001b[39;00m(\u001b[39m\"\u001b[39m\u001b[39m`y` must be 1 or 2 dimensional.\u001b[39m\u001b[39m\"\u001b[39m)\n",
      "File \u001b[0;32m~/.local/lib/python3.10/site-packages/scipy/spatial/distance.py:2242\u001b[0m, in \u001b[0;36mpdist\u001b[0;34m(X, metric, out, **kwargs)\u001b[0m\n\u001b[1;32m   2240\u001b[0m \u001b[39mif\u001b[39;00m metric_info \u001b[39mis\u001b[39;00m \u001b[39mnot\u001b[39;00m \u001b[39mNone\u001b[39;00m:\n\u001b[1;32m   2241\u001b[0m     pdist_fn \u001b[39m=\u001b[39m metric_info\u001b[39m.\u001b[39mpdist_func\n\u001b[0;32m-> 2242\u001b[0m     \u001b[39mreturn\u001b[39;00m pdist_fn(X, out\u001b[39m=\u001b[39;49mout, \u001b[39m*\u001b[39;49m\u001b[39m*\u001b[39;49mkwargs)\n\u001b[1;32m   2243\u001b[0m \u001b[39melif\u001b[39;00m mstr\u001b[39m.\u001b[39mstartswith(\u001b[39m\"\u001b[39m\u001b[39mtest_\u001b[39m\u001b[39m\"\u001b[39m):\n\u001b[1;32m   2244\u001b[0m     metric_info \u001b[39m=\u001b[39m _TEST_METRICS\u001b[39m.\u001b[39mget(mstr, \u001b[39mNone\u001b[39;00m)\n",
      "\u001b[0;31mMemoryError\u001b[0m: Unable to allocate 74.6 GiB for an array with shape (10006243845,) and data type float64"
     ]
    }
   ],
   "source": [
    "silhouettes = []\n",
    "for i in range(2, 7):\n",
    "    model = Birch(n_clusters=i)\n",
    "    model.fit(X)\n",
    "    visualize_clustering(model.cluster_centers_, model.labels_, [X_pca[:, 0], X_pca[:, 1]], \"Birch\")\n",
    "    silhouettes.append(silhouette_score(X, model.labels_))"
   ]
  },
  {
   "cell_type": "code",
   "execution_count": null,
   "metadata": {},
   "outputs": [],
   "source": [
    "silhouettes"
   ]
  },
  {
   "cell_type": "code",
   "execution_count": null,
   "metadata": {},
   "outputs": [],
   "source": [
    "model = Birch(n_clusters=2)\n",
    "model.fit(X)\n",
    "visualize_clustering(model.cluster_centers_, model.labels_, [X_pca[:, 0], X_pca[:, 1]], \"Birch\")"
   ]
  },
  {
   "cell_type": "code",
   "execution_count": null,
   "metadata": {},
   "outputs": [],
   "source": [
    "def clustering_accuracy(real, predicted):\n",
    "    total = len(real)\n",
    "    correct = sum(a == b for a, b in zip(real, predicted))\n",
    "    score = (correct / total) * 100\n",
    "    return score"
   ]
  },
  {
   "cell_type": "code",
   "execution_count": null,
   "metadata": {},
   "outputs": [],
   "source": [
    "clustering_accuracy(y, model.labels_)"
   ]
  }
 ],
 "metadata": {
  "kernelspec": {
   "display_name": "Python 3",
   "language": "python",
   "name": "python3"
  },
  "language_info": {
   "codemirror_mode": {
    "name": "ipython",
    "version": 3
   },
   "file_extension": ".py",
   "mimetype": "text/x-python",
   "name": "python",
   "nbconvert_exporter": "python",
   "pygments_lexer": "ipython3",
   "version": "3.10.7"
  },
  "orig_nbformat": 4
 },
 "nbformat": 4,
 "nbformat_minor": 2
}
