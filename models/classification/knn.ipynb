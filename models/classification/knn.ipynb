{
 "cells": [
  {
   "cell_type": "code",
   "execution_count": 1,
   "metadata": {},
   "outputs": [],
   "source": [
    "import numpy as np\n",
    "import matplotlib.pyplot as plt\n",
    "import pandas as pd\n",
    "import seaborn as sns\n",
    "from joblib import load"
   ]
  },
  {
   "cell_type": "code",
   "execution_count": 2,
   "metadata": {},
   "outputs": [],
   "source": [
    "X_train, X_test, y_train, y_test = load('../../preprocessing/classification_data.joblib')"
   ]
  },
  {
   "cell_type": "code",
   "execution_count": 3,
   "metadata": {},
   "outputs": [
    {
     "name": "stdout",
     "output_type": "stream",
     "text": [
      "<class 'pandas.core.frame.DataFrame'>\n",
      "Index: 100039 entries, 63829 to 85084\n",
      "Data columns (total 75 columns):\n",
      " #   Column                             Non-Null Count   Dtype  \n",
      "---  ------                             --------------   -----  \n",
      " 0   ID                                 100039 non-null  int64  \n",
      " 1   year                               100039 non-null  int64  \n",
      " 2   loan_amount                        100039 non-null  int64  \n",
      " 3   rate_of_interest                   100039 non-null  float64\n",
      " 4   Interest_rate_spread               100039 non-null  float64\n",
      " 5   Upfront_charges                    100039 non-null  float64\n",
      " 6   property_value                     100039 non-null  float64\n",
      " 7   income                             100039 non-null  float64\n",
      " 8   Credit_Score                       100039 non-null  int64  \n",
      " 9   LTV                                100039 non-null  float64\n",
      " 10  dtir1                              100039 non-null  float64\n",
      " 11  loan_limit_ncf                     100039 non-null  bool   \n",
      " 12  Gender_Joint                       100039 non-null  bool   \n",
      " 13  Gender_Male                        100039 non-null  bool   \n",
      " 14  approv_in_adv_pre                  100039 non-null  bool   \n",
      " 15  loan_type_type2                    100039 non-null  bool   \n",
      " 16  loan_type_type3                    100039 non-null  bool   \n",
      " 17  loan_purpose_p2                    100039 non-null  bool   \n",
      " 18  loan_purpose_p3                    100039 non-null  bool   \n",
      " 19  loan_purpose_p4                    100039 non-null  bool   \n",
      " 20  Credit_Worthiness_l2               100039 non-null  bool   \n",
      " 21  open_credit_opc                    100039 non-null  bool   \n",
      " 22  business_or_commercial_nob/c       100039 non-null  bool   \n",
      " 23  Neg_ammortization_not_neg          100039 non-null  bool   \n",
      " 24  interest_only_not_int              100039 non-null  bool   \n",
      " 25  lump_sum_payment_not_lpsm          100039 non-null  bool   \n",
      " 26  construction_type_sb               100039 non-null  bool   \n",
      " 27  occupancy_type_pr                  100039 non-null  bool   \n",
      " 28  occupancy_type_sr                  100039 non-null  bool   \n",
      " 29  Secured_by_land                    100039 non-null  bool   \n",
      " 30  total_units_2U                     100039 non-null  bool   \n",
      " 31  total_units_3U                     100039 non-null  bool   \n",
      " 32  total_units_4U                     100039 non-null  bool   \n",
      " 33  credit_type_CRIF                   100039 non-null  bool   \n",
      " 34  credit_type_EQUI                   100039 non-null  bool   \n",
      " 35  credit_type_EXP                    100039 non-null  bool   \n",
      " 36  co-applicant_credit_type_EXP       100039 non-null  bool   \n",
      " 37  age_35-44                          100039 non-null  bool   \n",
      " 38  age_45-54                          100039 non-null  bool   \n",
      " 39  age_55-64                          100039 non-null  bool   \n",
      " 40  age_65-74                          100039 non-null  bool   \n",
      " 41  age_<25                            100039 non-null  bool   \n",
      " 42  age_>74                            100039 non-null  bool   \n",
      " 43  submission_of_application_to_inst  100039 non-null  bool   \n",
      " 44  Region_North-East                  100039 non-null  bool   \n",
      " 45  Region_central                     100039 non-null  bool   \n",
      " 46  Region_south                       100039 non-null  bool   \n",
      " 47  Security_Type_direct               100039 non-null  bool   \n",
      " 48  term_108.0                         100039 non-null  bool   \n",
      " 49  term_120.0                         100039 non-null  bool   \n",
      " 50  term_132.0                         100039 non-null  bool   \n",
      " 51  term_144.0                         100039 non-null  bool   \n",
      " 52  term_156.0                         100039 non-null  bool   \n",
      " 53  term_165.0                         100039 non-null  bool   \n",
      " 54  term_168.0                         100039 non-null  bool   \n",
      " 55  term_180.0                         100039 non-null  bool   \n",
      " 56  term_192.0                         100039 non-null  bool   \n",
      " 57  term_204.0                         100039 non-null  bool   \n",
      " 58  term_216.0                         100039 non-null  bool   \n",
      " 59  term_228.0                         100039 non-null  bool   \n",
      " 60  term_240.0                         100039 non-null  bool   \n",
      " 61  term_252.0                         100039 non-null  bool   \n",
      " 62  term_260.0                         100039 non-null  bool   \n",
      " 63  term_264.0                         100039 non-null  bool   \n",
      " 64  term_276.0                         100039 non-null  bool   \n",
      " 65  term_280.0                         100039 non-null  bool   \n",
      " 66  term_288.0                         100039 non-null  bool   \n",
      " 67  term_300.0                         100039 non-null  bool   \n",
      " 68  term_312.0                         100039 non-null  bool   \n",
      " 69  term_320.0                         100039 non-null  bool   \n",
      " 70  term_322.0                         100039 non-null  bool   \n",
      " 71  term_324.0                         100039 non-null  bool   \n",
      " 72  term_336.0                         100039 non-null  bool   \n",
      " 73  term_348.0                         100039 non-null  bool   \n",
      " 74  term_360.0                         100039 non-null  bool   \n",
      "dtypes: bool(64), float64(7), int64(4)\n",
      "memory usage: 15.3 MB\n"
     ]
    }
   ],
   "source": [
    "X_train.info()"
   ]
  },
  {
   "cell_type": "code",
   "execution_count": 4,
   "metadata": {},
   "outputs": [],
   "source": [
    "from sklearn.metrics import confusion_matrix, accuracy_score, precision_score, recall_score, f1_score"
   ]
  },
  {
   "cell_type": "code",
   "execution_count": 5,
   "metadata": {},
   "outputs": [],
   "source": [
    "def model_info(y_real, y_pred):\n",
    "    print('Confusion matrix: \\n', confusion_matrix(y_real, y_pred))\n",
    "    print('Accuracy score: ', accuracy_score(y_real, y_pred))\n",
    "    print('Precision score: ', precision_score(y_real, y_pred))\n",
    "    print('Recall score: ', recall_score(y_real, y_pred))\n",
    "    print('F1 score: ', f1_score(y_real, y_pred))"
   ]
  },
  {
   "cell_type": "code",
   "execution_count": 6,
   "metadata": {},
   "outputs": [],
   "source": [
    "def build_model(model, X_train, X_test, y_train, y_test):\n",
    "    model.fit(X_train, y_train)\n",
    "\n",
    "    print('Train:')\n",
    "    y_train_pred = model.predict(X_train)\n",
    "    model_info(y_train, y_train_pred)\n",
    "\n",
    "    print('Test:')\n",
    "    y_pred = model.predict(X_test)\n",
    "    model_info(y_test, y_pred)\n",
    "    \n",
    "    return model"
   ]
  },
  {
   "cell_type": "code",
   "execution_count": 7,
   "metadata": {},
   "outputs": [],
   "source": [
    "from sklearn.neighbors import KNeighborsClassifier\n",
    "from sklearn.preprocessing import StandardScaler"
   ]
  },
  {
   "cell_type": "code",
   "execution_count": 8,
   "metadata": {},
   "outputs": [],
   "source": [
    "scaler = StandardScaler()\n",
    "\n",
    "X_train = scaler.fit_transform(X_train)\n",
    "X_test = scaler.transform(X_test)"
   ]
  },
  {
   "cell_type": "code",
   "execution_count": 9,
   "metadata": {},
   "outputs": [],
   "source": [
    "knn_no_params = KNeighborsClassifier()"
   ]
  },
  {
   "cell_type": "code",
   "execution_count": 10,
   "metadata": {},
   "outputs": [
    {
     "name": "stdout",
     "output_type": "stream",
     "text": [
      "Train:\n",
      "Confusion matrix: \n",
      " [[74414   794]\n",
      " [ 6961 17870]]\n",
      "Accuracy score:  0.9224802327092434\n",
      "Precision score:  0.9574582083154737\n",
      "Recall score:  0.7196649349603318\n",
      "F1 score:  0.8217036440970226\n",
      "Test:\n",
      "Confusion matrix: \n",
      " [[31607   625]\n",
      " [ 3870  6772]]\n",
      "Accuracy score:  0.8951579045575407\n",
      "Precision score:  0.9155062863322969\n",
      "Recall score:  0.6363465514001128\n",
      "F1 score:  0.7508176728200011\n"
     ]
    }
   ],
   "source": [
    "knn_no_params = build_model(knn_no_params, X_train, X_test, y_train, y_test)"
   ]
  },
  {
   "cell_type": "code",
   "execution_count": 11,
   "metadata": {},
   "outputs": [],
   "source": [
    "from sklearn.model_selection import GridSearchCV"
   ]
  },
  {
   "cell_type": "code",
   "execution_count": 26,
   "metadata": {},
   "outputs": [],
   "source": [
    "params = {\n",
    "    'n_neighbors': [3, 5, 10],\n",
    "    'weights': ['uniform', 'distance'],\n",
    "    'p': [1, 2]\n",
    "}"
   ]
  },
  {
   "cell_type": "code",
   "execution_count": 27,
   "metadata": {},
   "outputs": [],
   "source": [
    "from sklearn.metrics import make_scorer\n",
    "\n",
    "f1_scorer = make_scorer(f1_score)"
   ]
  },
  {
   "cell_type": "code",
   "execution_count": 28,
   "metadata": {},
   "outputs": [
    {
     "name": "stdout",
     "output_type": "stream",
     "text": [
      "Train:\n",
      "Confusion matrix: \n",
      " [[75208     0]\n",
      " [    0 24831]]\n",
      "Accuracy score:  1.0\n",
      "Precision score:  1.0\n",
      "Recall score:  1.0\n",
      "F1 score:  1.0\n",
      "Test:\n",
      "Confusion matrix: \n",
      " [[31727   505]\n",
      " [ 3711  6931]]\n",
      "Accuracy score:  0.901665344964314\n",
      "Precision score:  0.9320871436256052\n",
      "Recall score:  0.6512873520015035\n",
      "F1 score:  0.7667883615444187\n"
     ]
    }
   ],
   "source": [
    "knn_cv = GridSearchCV(KNeighborsClassifier(), param_grid=params, cv=5, scoring=f1_scorer)\n",
    "knn_cv = build_model(knn_cv, X_train, X_test, y_train, y_test)"
   ]
  },
  {
   "cell_type": "code",
   "execution_count": 29,
   "metadata": {},
   "outputs": [
    {
     "data": {
      "text/plain": [
       "{'n_neighbors': 5, 'p': 1, 'weights': 'distance'}"
      ]
     },
     "execution_count": 29,
     "metadata": {},
     "output_type": "execute_result"
    }
   ],
   "source": [
    "knn_cv.best_params_"
   ]
  },
  {
   "cell_type": "code",
   "execution_count": 30,
   "metadata": {},
   "outputs": [
    {
     "data": {
      "text/plain": [
       "0.7663798131153375"
      ]
     },
     "execution_count": 30,
     "metadata": {},
     "output_type": "execute_result"
    }
   ],
   "source": [
    "knn_cv.best_score_"
   ]
  },
  {
   "cell_type": "code",
   "execution_count": 31,
   "metadata": {},
   "outputs": [
    {
     "data": {
      "image/png": "[encoded data removed]",
      "text/plain": [
       "<Figure size 640x480 with 1 Axes>"
      ]
     },
     "metadata": {},
     "output_type": "display_data"
    }
   ],
   "source": [
    "from sklearn.metrics import roc_curve, roc_auc_score\n",
    "models = [knn_no_params, knn_cv.best_estimator_]\n",
    "model_names = ['KNearestNeighbors', 'KNearestNeighbors CV']\n",
    "for model, model_name in zip(models, model_names):\n",
    "    y_pred = model.predict(X_test)\n",
    "    fpr,tpr, _ = roc_curve(y_test, y_pred)\n",
    "    auc = roc_auc_score(y_test, y_pred)\n",
    "    lab = model_name + \"(AUC: \" + str(round(auc, 2)) + \")\"\n",
    "    plt.plot(fpr, tpr, label=lab)\n",
    "\n",
    "plt.plot([0, 1], [0, 1], label='Random (AUC: 0.5)')\n",
    "plt.legend()\n",
    "plt.show()"
   ]
  },
  {
   "cell_type": "code",
   "execution_count": 32,
   "metadata": {},
   "outputs": [
    {
     "data": {
      "text/plain": [
       "['knn.joblib']"
      ]
     },
     "execution_count": 32,
     "metadata": {},
     "output_type": "execute_result"
    }
   ],
   "source": [
    "from joblib import dump\n",
    "dump(models, 'knn.joblib')"
   ]
  }
 ],
 "metadata": {
  "kernelspec": {
   "display_name": "Python 3",
   "language": "python",
   "name": "python3"
  },
  "language_info": {
   "codemirror_mode": {
    "name": "ipython",
    "version": 3
   },
   "file_extension": ".py",
   "mimetype": "text/x-python",
   "name": "python",
   "nbconvert_exporter": "python",
   "pygments_lexer": "ipython3",
   "version": "3.10.7"
  },
  "orig_nbformat": 4
 },
 "nbformat": 4,
 "nbformat_minor": 2
}
