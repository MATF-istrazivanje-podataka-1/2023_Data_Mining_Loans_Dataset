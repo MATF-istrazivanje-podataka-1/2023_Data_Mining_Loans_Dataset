{
 "cells": [
  {
   "cell_type": "code",
   "execution_count": 1,
   "metadata": {},
   "outputs": [],
   "source": [
    "import pandas as pd\n",
    "import numpy as np\n",
    "import matplotlib.pyplot as plt\n",
    "from sklearn.impute import KNNImputer"
   ]
  },
  {
   "cell_type": "code",
   "execution_count": 2,
   "metadata": {},
   "outputs": [
    {
     "data": {
      "text/html": [
       "<div>\n",
       "<style scoped>\n",
       "    .dataframe tbody tr th:only-of-type {\n",
       "        vertical-align: middle;\n",
       "    }\n",
       "\n",
       "    .dataframe tbody tr th {\n",
       "        vertical-align: top;\n",
       "    }\n",
       "\n",
       "    .dataframe thead th {\n",
       "        text-align: right;\n",
       "    }\n",
       "</style>\n",
       "<table border=\"1\" class=\"dataframe\">\n",
       "  <thead>\n",
       "    <tr style=\"text-align: right;\">\n",
       "      <th></th>\n",
       "      <th>ID</th>\n",
       "      <th>year</th>\n",
       "      <th>loan_limit</th>\n",
       "      <th>Gender</th>\n",
       "      <th>approv_in_adv</th>\n",
       "      <th>loan_type</th>\n",
       "      <th>loan_purpose</th>\n",
       "      <th>Credit_Worthiness</th>\n",
       "      <th>open_credit</th>\n",
       "      <th>business_or_commercial</th>\n",
       "      <th>...</th>\n",
       "      <th>credit_type</th>\n",
       "      <th>Credit_Score</th>\n",
       "      <th>co-applicant_credit_type</th>\n",
       "      <th>age</th>\n",
       "      <th>submission_of_application</th>\n",
       "      <th>LTV</th>\n",
       "      <th>Region</th>\n",
       "      <th>Security_Type</th>\n",
       "      <th>Status</th>\n",
       "      <th>dtir1</th>\n",
       "    </tr>\n",
       "  </thead>\n",
       "  <tbody>\n",
       "    <tr>\n",
       "      <th>0</th>\n",
       "      <td>24890</td>\n",
       "      <td>2019</td>\n",
       "      <td>cf</td>\n",
       "      <td>Sex Not Available</td>\n",
       "      <td>nopre</td>\n",
       "      <td>type1</td>\n",
       "      <td>p1</td>\n",
       "      <td>l1</td>\n",
       "      <td>nopc</td>\n",
       "      <td>nob/c</td>\n",
       "      <td>...</td>\n",
       "      <td>EXP</td>\n",
       "      <td>758</td>\n",
       "      <td>CIB</td>\n",
       "      <td>25-34</td>\n",
       "      <td>to_inst</td>\n",
       "      <td>98.728814</td>\n",
       "      <td>south</td>\n",
       "      <td>direct</td>\n",
       "      <td>1</td>\n",
       "      <td>45.0</td>\n",
       "    </tr>\n",
       "    <tr>\n",
       "      <th>1</th>\n",
       "      <td>24891</td>\n",
       "      <td>2019</td>\n",
       "      <td>cf</td>\n",
       "      <td>Male</td>\n",
       "      <td>nopre</td>\n",
       "      <td>type2</td>\n",
       "      <td>p1</td>\n",
       "      <td>l1</td>\n",
       "      <td>nopc</td>\n",
       "      <td>b/c</td>\n",
       "      <td>...</td>\n",
       "      <td>EQUI</td>\n",
       "      <td>552</td>\n",
       "      <td>EXP</td>\n",
       "      <td>55-64</td>\n",
       "      <td>to_inst</td>\n",
       "      <td>NaN</td>\n",
       "      <td>North</td>\n",
       "      <td>direct</td>\n",
       "      <td>1</td>\n",
       "      <td>NaN</td>\n",
       "    </tr>\n",
       "    <tr>\n",
       "      <th>2</th>\n",
       "      <td>24892</td>\n",
       "      <td>2019</td>\n",
       "      <td>cf</td>\n",
       "      <td>Male</td>\n",
       "      <td>pre</td>\n",
       "      <td>type1</td>\n",
       "      <td>p1</td>\n",
       "      <td>l1</td>\n",
       "      <td>nopc</td>\n",
       "      <td>nob/c</td>\n",
       "      <td>...</td>\n",
       "      <td>EXP</td>\n",
       "      <td>834</td>\n",
       "      <td>CIB</td>\n",
       "      <td>35-44</td>\n",
       "      <td>to_inst</td>\n",
       "      <td>80.019685</td>\n",
       "      <td>south</td>\n",
       "      <td>direct</td>\n",
       "      <td>0</td>\n",
       "      <td>46.0</td>\n",
       "    </tr>\n",
       "    <tr>\n",
       "      <th>3</th>\n",
       "      <td>24893</td>\n",
       "      <td>2019</td>\n",
       "      <td>cf</td>\n",
       "      <td>Male</td>\n",
       "      <td>nopre</td>\n",
       "      <td>type1</td>\n",
       "      <td>p4</td>\n",
       "      <td>l1</td>\n",
       "      <td>nopc</td>\n",
       "      <td>nob/c</td>\n",
       "      <td>...</td>\n",
       "      <td>EXP</td>\n",
       "      <td>587</td>\n",
       "      <td>CIB</td>\n",
       "      <td>45-54</td>\n",
       "      <td>not_inst</td>\n",
       "      <td>69.376900</td>\n",
       "      <td>North</td>\n",
       "      <td>direct</td>\n",
       "      <td>0</td>\n",
       "      <td>42.0</td>\n",
       "    </tr>\n",
       "    <tr>\n",
       "      <th>4</th>\n",
       "      <td>24894</td>\n",
       "      <td>2019</td>\n",
       "      <td>cf</td>\n",
       "      <td>Joint</td>\n",
       "      <td>pre</td>\n",
       "      <td>type1</td>\n",
       "      <td>p1</td>\n",
       "      <td>l1</td>\n",
       "      <td>nopc</td>\n",
       "      <td>nob/c</td>\n",
       "      <td>...</td>\n",
       "      <td>CRIF</td>\n",
       "      <td>602</td>\n",
       "      <td>EXP</td>\n",
       "      <td>25-34</td>\n",
       "      <td>not_inst</td>\n",
       "      <td>91.886544</td>\n",
       "      <td>North</td>\n",
       "      <td>direct</td>\n",
       "      <td>0</td>\n",
       "      <td>39.0</td>\n",
       "    </tr>\n",
       "  </tbody>\n",
       "</table>\n",
       "<p>5 rows × 34 columns</p>\n",
       "</div>"
      ],
      "text/plain": [
       "      ID  year loan_limit             Gender approv_in_adv loan_type   \n",
       "0  24890  2019         cf  Sex Not Available         nopre     type1  \\\n",
       "1  24891  2019         cf               Male         nopre     type2   \n",
       "2  24892  2019         cf               Male           pre     type1   \n",
       "3  24893  2019         cf               Male         nopre     type1   \n",
       "4  24894  2019         cf              Joint           pre     type1   \n",
       "\n",
       "  loan_purpose Credit_Worthiness open_credit business_or_commercial  ...   \n",
       "0           p1                l1        nopc                  nob/c  ...  \\\n",
       "1           p1                l1        nopc                    b/c  ...   \n",
       "2           p1                l1        nopc                  nob/c  ...   \n",
       "3           p4                l1        nopc                  nob/c  ...   \n",
       "4           p1                l1        nopc                  nob/c  ...   \n",
       "\n",
       "   credit_type  Credit_Score  co-applicant_credit_type    age   \n",
       "0          EXP           758                       CIB  25-34  \\\n",
       "1         EQUI           552                       EXP  55-64   \n",
       "2          EXP           834                       CIB  35-44   \n",
       "3          EXP           587                       CIB  45-54   \n",
       "4         CRIF           602                       EXP  25-34   \n",
       "\n",
       "   submission_of_application        LTV Region Security_Type  Status dtir1  \n",
       "0                    to_inst  98.728814  south        direct       1  45.0  \n",
       "1                    to_inst        NaN  North        direct       1   NaN  \n",
       "2                    to_inst  80.019685  south        direct       0  46.0  \n",
       "3                   not_inst  69.376900  North        direct       0  42.0  \n",
       "4                   not_inst  91.886544  North        direct       0  39.0  \n",
       "\n",
       "[5 rows x 34 columns]"
      ]
     },
     "execution_count": 2,
     "metadata": {},
     "output_type": "execute_result"
    }
   ],
   "source": [
    "df = pd.read_csv(\"../dataset/Loan_Default.csv\")\n",
    "df.head()"
   ]
  },
  {
   "cell_type": "code",
   "execution_count": 3,
   "metadata": {},
   "outputs": [
    {
     "name": "stdout",
     "output_type": "stream",
     "text": [
      "<class 'pandas.core.frame.DataFrame'>\n",
      "RangeIndex: 148670 entries, 0 to 148669\n",
      "Data columns (total 34 columns):\n",
      " #   Column                     Non-Null Count   Dtype  \n",
      "---  ------                     --------------   -----  \n",
      " 0   ID                         148670 non-null  int64  \n",
      " 1   year                       148670 non-null  int64  \n",
      " 2   loan_limit                 145326 non-null  object \n",
      " 3   Gender                     148670 non-null  object \n",
      " 4   approv_in_adv              147762 non-null  object \n",
      " 5   loan_type                  148670 non-null  object \n",
      " 6   loan_purpose               148536 non-null  object \n",
      " 7   Credit_Worthiness          148670 non-null  object \n",
      " 8   open_credit                148670 non-null  object \n",
      " 9   business_or_commercial     148670 non-null  object \n",
      " 10  loan_amount                148670 non-null  int64  \n",
      " 11  rate_of_interest           112231 non-null  float64\n",
      " 12  Interest_rate_spread       112031 non-null  float64\n",
      " 13  Upfront_charges            109028 non-null  float64\n",
      " 14  term                       148629 non-null  float64\n",
      " 15  Neg_ammortization          148549 non-null  object \n",
      " 16  interest_only              148670 non-null  object \n",
      " 17  lump_sum_payment           148670 non-null  object \n",
      " 18  property_value             133572 non-null  float64\n",
      " 19  construction_type          148670 non-null  object \n",
      " 20  occupancy_type             148670 non-null  object \n",
      " 21  Secured_by                 148670 non-null  object \n",
      " 22  total_units                148670 non-null  object \n",
      " 23  income                     139520 non-null  float64\n",
      " 24  credit_type                148670 non-null  object \n",
      " 25  Credit_Score               148670 non-null  int64  \n",
      " 26  co-applicant_credit_type   148670 non-null  object \n",
      " 27  age                        148470 non-null  object \n",
      " 28  submission_of_application  148470 non-null  object \n",
      " 29  LTV                        133572 non-null  float64\n",
      " 30  Region                     148670 non-null  object \n",
      " 31  Security_Type              148670 non-null  object \n",
      " 32  Status                     148670 non-null  int64  \n",
      " 33  dtir1                      124549 non-null  float64\n",
      "dtypes: float64(8), int64(5), object(21)\n",
      "memory usage: 38.6+ MB\n"
     ]
    }
   ],
   "source": [
    "df.info()"
   ]
  },
  {
   "cell_type": "code",
   "execution_count": 4,
   "metadata": {},
   "outputs": [
    {
     "name": "stdout",
     "output_type": "stream",
     "text": [
      "2. year has 1 unique values, which are [2019]\n",
      "3. loan_limit has 3 unique values, which are ['cf' nan 'ncf']\n",
      "4. Gender has 4 unique values, which are ['Sex Not Available' 'Male' 'Joint' 'Female']\n",
      "5. approv_in_adv has 3 unique values, which are ['nopre' 'pre' nan]\n",
      "6. loan_type has 3 unique values, which are ['type1' 'type2' 'type3']\n",
      "7. loan_purpose has 5 unique values, which are ['p1' 'p4' 'p3' 'p2' nan]\n",
      "8. Credit_Worthiness has 2 unique values, which are ['l1' 'l2']\n",
      "9. open_credit has 2 unique values, which are ['nopc' 'opc']\n",
      "10. business_or_commercial has 2 unique values, which are ['nob/c' 'b/c']\n",
      "16. Neg_ammortization has 3 unique values, which are ['not_neg' 'neg_amm' nan]\n",
      "17. interest_only has 2 unique values, which are ['not_int' 'int_only']\n",
      "18. lump_sum_payment has 2 unique values, which are ['not_lpsm' 'lpsm']\n",
      "20. construction_type has 2 unique values, which are ['sb' 'mh']\n",
      "21. occupancy_type has 3 unique values, which are ['pr' 'sr' 'ir']\n",
      "22. Secured_by has 2 unique values, which are ['home' 'land']\n",
      "23. total_units has 4 unique values, which are ['1U' '2U' '3U' '4U']\n",
      "25. credit_type has 4 unique values, which are ['EXP' 'EQUI' 'CRIF' 'CIB']\n",
      "27. co-applicant_credit_type has 2 unique values, which are ['CIB' 'EXP']\n",
      "28. age has 8 unique values, which are ['25-34' '55-64' '35-44' '45-54' '65-74' '>74' '<25' nan]\n",
      "29. submission_of_application has 3 unique values, which are ['to_inst' 'not_inst' nan]\n",
      "31. Region has 4 unique values, which are ['south' 'North' 'central' 'North-East']\n",
      "32. Security_Type has 2 unique values, which are ['direct' 'Indriect']\n",
      "33. Status has 2 unique values, which are [1 0]\n"
     ]
    }
   ],
   "source": [
    "n_unique_values = 10\n",
    "all_columns = df.columns.to_list()\n",
    "categorical_columns = []\n",
    "\n",
    "for i, column in enumerate(all_columns):\n",
    "    temp = df.loc[:, column].unique()\n",
    "    if len(temp) < n_unique_values:\n",
    "        print (f\"{i+1}. {column} has {len(temp)} unique values, which are {temp}\")\n",
    "        categorical_columns.append(column)\n",
    "del temp"
   ]
  },
  {
   "cell_type": "code",
   "execution_count": 5,
   "metadata": {},
   "outputs": [],
   "source": [
    "df['Gender'] = df['Gender'].replace(\"Sex Not Available\", np.nan)"
   ]
  },
  {
   "cell_type": "code",
   "execution_count": 6,
   "metadata": {},
   "outputs": [
    {
     "data": {
      "text/plain": [
       "['loan_limit',\n",
       " 'Gender',\n",
       " 'approv_in_adv',\n",
       " 'loan_purpose',\n",
       " 'rate_of_interest',\n",
       " 'Interest_rate_spread',\n",
       " 'Upfront_charges',\n",
       " 'term',\n",
       " 'Neg_ammortization',\n",
       " 'property_value',\n",
       " 'income',\n",
       " 'age',\n",
       " 'submission_of_application',\n",
       " 'LTV',\n",
       " 'dtir1']"
      ]
     },
     "execution_count": 6,
     "metadata": {},
     "output_type": "execute_result"
    }
   ],
   "source": [
    "missing_columns = [col for col in df.columns if df[col].isnull().sum() > 0]\n",
    "missing_columns"
   ]
  },
  {
   "cell_type": "code",
   "execution_count": 7,
   "metadata": {},
   "outputs": [
    {
     "name": "stdout",
     "output_type": "stream",
     "text": [
      "loan_limit : 3344 (2.249%)\n",
      "Gender : 37659 (25.331%)\n",
      "approv_in_adv : 908 (0.611%)\n",
      "loan_purpose : 134 (0.09%)\n",
      "rate_of_interest : 36439 (24.51%)\n",
      "Interest_rate_spread : 36639 (24.645%)\n",
      "Upfront_charges : 39642 (26.664%)\n",
      "term : 41 (0.028%)\n",
      "Neg_ammortization : 121 (0.081%)\n",
      "property_value : 15098 (10.155%)\n",
      "income : 9150 (6.155%)\n",
      "age : 200 (0.135%)\n",
      "submission_of_application : 200 (0.135%)\n",
      "LTV : 15098 (10.155%)\n",
      "dtir1 : 24121 (16.225%)\n"
     ]
    }
   ],
   "source": [
    "def get_missing_percent(df):\n",
    "    total = df.shape[0]\n",
    "    missing_columns = [col for col in df.columns if df[col].isnull().sum() > 0]\n",
    "    missing_percent = {}\n",
    "    for col in missing_columns:\n",
    "        null_count = df[col].isnull().sum()\n",
    "        per = (null_count/total) * 100\n",
    "        missing_percent[col] = per\n",
    "        print(\"{} : {} ({}%)\".format(col, null_count, round(per, 3)))\n",
    "    return missing_percent\n",
    "\n",
    "missing_percent = get_missing_percent(df)"
   ]
  },
  {
   "cell_type": "code",
   "execution_count": 8,
   "metadata": {},
   "outputs": [
    {
     "name": "stdout",
     "output_type": "stream",
     "text": [
      "15098\n",
      "36439\n"
     ]
    }
   ],
   "source": [
    "property_value_LTV_missing_correl = 0\n",
    "interest_upfront_missing_correl = 0\n",
    "for ind in df.index:\n",
    "    if pd.isna(df['property_value'][ind]) and pd.isna(df['LTV'][ind]):\n",
    "        property_value_LTV_missing_correl += 1\n",
    "    if pd.isna(df['rate_of_interest'][ind]) and pd.isna(df['Interest_rate_spread'][ind]) and pd.isna(df['Upfront_charges'][ind]):\n",
    "        interest_upfront_missing_correl += 1\n",
    "print(property_value_LTV_missing_correl)\n",
    "print(interest_upfront_missing_correl)\n",
    "    "
   ]
  },
  {
   "cell_type": "code",
   "execution_count": 9,
   "metadata": {},
   "outputs": [
    {
     "name": "stdout",
     "output_type": "stream",
     "text": [
      "10567\n"
     ]
    }
   ],
   "source": [
    "gender_interest_upfront_missing_correl = 0\n",
    "for ind in df.index:\n",
    "    if pd.isna(df['rate_of_interest'][ind]) and pd.isna(df['Interest_rate_spread'][ind]) and pd.isna(df['Upfront_charges'][ind]) and pd.isna(df['Gender'][ind]):\n",
    "        gender_interest_upfront_missing_correl += 1\n",
    "print(gender_interest_upfront_missing_correl)"
   ]
  },
  {
   "cell_type": "code",
   "execution_count": 10,
   "metadata": {},
   "outputs": [
    {
     "data": {
      "text/plain": [
       "array([nan, 'Male', 'Joint', 'Female'], dtype=object)"
      ]
     },
     "execution_count": 10,
     "metadata": {},
     "output_type": "execute_result"
    }
   ],
   "source": [
    "df['Gender'].unique()"
   ]
  },
  {
   "cell_type": "code",
   "execution_count": 11,
   "metadata": {},
   "outputs": [
    {
     "data": {
      "image/png": "[encoded data removed]",
      "text/plain": [
       "<Figure size 640x480 with 1 Axes>"
      ]
     },
     "metadata": {},
     "output_type": "display_data"
    }
   ],
   "source": [
    "def gender_graph(df):\n",
    "    df_copy = df['Gender'].copy()\n",
    "    gender_freq = df_copy.value_counts()\n",
    "    plt.bar(gender_freq.index, gender_freq.values)\n",
    "    plt.show()\n",
    "gender_graph(df)"
   ]
  },
  {
   "cell_type": "code",
   "execution_count": 12,
   "metadata": {},
   "outputs": [
    {
     "data": {
      "text/plain": [
       "0            NaN\n",
       "1           Male\n",
       "2           Male\n",
       "3           Male\n",
       "4          Joint\n",
       "           ...  \n",
       "148665       NaN\n",
       "148666      Male\n",
       "148667      Male\n",
       "148668    Female\n",
       "148669    Female\n",
       "Name: Gender, Length: 148670, dtype: object"
      ]
     },
     "execution_count": 12,
     "metadata": {},
     "output_type": "execute_result"
    }
   ],
   "source": [
    "df['Gender']"
   ]
  },
  {
   "cell_type": "code",
   "execution_count": 13,
   "metadata": {},
   "outputs": [
    {
     "data": {
      "image/png": "[encoded data removed]",
      "text/plain": [
       "<Figure size 640x480 with 1 Axes>"
      ]
     },
     "metadata": {},
     "output_type": "display_data"
    },
    {
     "data": {
      "text/plain": [
       "0           Male\n",
       "1           Male\n",
       "2           Male\n",
       "3           Male\n",
       "4          Joint\n",
       "           ...  \n",
       "148665      Male\n",
       "148666      Male\n",
       "148667      Male\n",
       "148668    Female\n",
       "148669    Female\n",
       "Name: Gender, Length: 148670, dtype: object"
      ]
     },
     "execution_count": 13,
     "metadata": {},
     "output_type": "execute_result"
    }
   ],
   "source": [
    "df['Gender'].fillna(method=\"bfill\", inplace=True)\n",
    "gender_graph(df)\n",
    "df['Gender']"
   ]
  },
  {
   "cell_type": "code",
   "execution_count": 14,
   "metadata": {},
   "outputs": [
    {
     "data": {
      "text/plain": [
       "['loan_limit',\n",
       " 'approv_in_adv',\n",
       " 'loan_purpose',\n",
       " 'rate_of_interest',\n",
       " 'Interest_rate_spread',\n",
       " 'Upfront_charges',\n",
       " 'term',\n",
       " 'Neg_ammortization',\n",
       " 'property_value',\n",
       " 'income',\n",
       " 'age',\n",
       " 'submission_of_application',\n",
       " 'LTV',\n",
       " 'dtir1']"
      ]
     },
     "execution_count": 14,
     "metadata": {},
     "output_type": "execute_result"
    }
   ],
   "source": [
    "missing_columns = [col for col in df.columns if df[col].isnull().sum() > 0]\n",
    "missing_columns\n"
   ]
  },
  {
   "cell_type": "code",
   "execution_count": 15,
   "metadata": {},
   "outputs": [
    {
     "data": {
      "text/plain": [
       "['loan_limit',\n",
       " 'approv_in_adv',\n",
       " 'loan_purpose',\n",
       " 'Neg_ammortization',\n",
       " 'age',\n",
       " 'submission_of_application']"
      ]
     },
     "execution_count": 15,
     "metadata": {},
     "output_type": "execute_result"
    }
   ],
   "source": [
    "cat_missing_cols = [col for col in missing_columns if df[col].dtype == 'object']\n",
    "cat_missing_cols\n"
   ]
  },
  {
   "cell_type": "code",
   "execution_count": 16,
   "metadata": {},
   "outputs": [
    {
     "name": "stdout",
     "output_type": "stream",
     "text": [
      "0\n",
      "0\n",
      "0\n",
      "0\n",
      "0\n",
      "0\n"
     ]
    }
   ],
   "source": [
    "for col in cat_missing_cols:\n",
    "    df[col].fillna(method=\"ffill\", inplace=True)\n",
    "    df[col].fillna(method=\"bfill\", inplace=True)\n",
    "    print(df[col].isna().sum())"
   ]
  },
  {
   "cell_type": "code",
   "execution_count": 17,
   "metadata": {},
   "outputs": [
    {
     "name": "stdout",
     "output_type": "stream",
     "text": [
      "float64\n",
      "float64\n",
      "float64\n",
      "float64\n",
      "float64\n",
      "float64\n",
      "float64\n",
      "float64\n"
     ]
    }
   ],
   "source": [
    "missing_columns = [col for col in df.columns if df[col].isnull().sum() > 0]\n",
    "for col in missing_columns:\n",
    "    print(df[col].dtype)"
   ]
  },
  {
   "cell_type": "code",
   "execution_count": 19,
   "metadata": {},
   "outputs": [
    {
     "name": "stdout",
     "output_type": "stream",
     "text": [
      "<class 'pandas.core.frame.DataFrame'>\n",
      "RangeIndex: 148670 entries, 0 to 148669\n",
      "Data columns (total 34 columns):\n",
      " #   Column                     Non-Null Count   Dtype  \n",
      "---  ------                     --------------   -----  \n",
      " 0   ID                         148670 non-null  int64  \n",
      " 1   year                       148670 non-null  int64  \n",
      " 2   loan_limit                 148670 non-null  object \n",
      " 3   Gender                     148670 non-null  object \n",
      " 4   approv_in_adv              148670 non-null  object \n",
      " 5   loan_type                  148670 non-null  object \n",
      " 6   loan_purpose               148670 non-null  object \n",
      " 7   Credit_Worthiness          148670 non-null  object \n",
      " 8   open_credit                148670 non-null  object \n",
      " 9   business_or_commercial     148670 non-null  object \n",
      " 10  loan_amount                148670 non-null  int64  \n",
      " 11  rate_of_interest           112231 non-null  float64\n",
      " 12  Interest_rate_spread       112031 non-null  float64\n",
      " 13  Upfront_charges            109028 non-null  float64\n",
      " 14  term                       148629 non-null  float64\n",
      " 15  Neg_ammortization          148670 non-null  object \n",
      " 16  interest_only              148670 non-null  object \n",
      " 17  lump_sum_payment           148670 non-null  object \n",
      " 18  property_value             133572 non-null  float64\n",
      " 19  construction_type          148670 non-null  object \n",
      " 20  occupancy_type             148670 non-null  object \n",
      " 21  Secured_by                 148670 non-null  object \n",
      " 22  total_units                148670 non-null  object \n",
      " 23  income                     139520 non-null  float64\n",
      " 24  credit_type                148670 non-null  object \n",
      " 25  Credit_Score               148670 non-null  int64  \n",
      " 26  co-applicant_credit_type   148670 non-null  object \n",
      " 27  age                        148670 non-null  object \n",
      " 28  submission_of_application  148670 non-null  object \n",
      " 29  LTV                        133572 non-null  float64\n",
      " 30  Region                     148670 non-null  object \n",
      " 31  Security_Type              148670 non-null  object \n",
      " 32  Status                     148670 non-null  int64  \n",
      " 33  dtir1                      124549 non-null  float64\n",
      "dtypes: float64(8), int64(5), object(21)\n",
      "memory usage: 38.6+ MB\n"
     ]
    }
   ],
   "source": [
    "knn = KNNImputer(n_neighbors = 3)\n",
    "df_temp = df[missing_columns]\n",
    "knn.fit(df_temp)\n",
    "X = knn.transform(df_temp)\n",
    "df_temp = pd.DataFrame(X, columns = missing_columns)"
   ]
  },
  {
   "cell_type": "code",
   "execution_count": 20,
   "metadata": {},
   "outputs": [
    {
     "name": "stdout",
     "output_type": "stream",
     "text": [
      "<class 'pandas.core.frame.DataFrame'>\n",
      "RangeIndex: 148670 entries, 0 to 148669\n",
      "Data columns (total 8 columns):\n",
      " #   Column                Non-Null Count   Dtype  \n",
      "---  ------                --------------   -----  \n",
      " 0   rate_of_interest      148670 non-null  float64\n",
      " 1   Interest_rate_spread  148670 non-null  float64\n",
      " 2   Upfront_charges       148670 non-null  float64\n",
      " 3   term                  148670 non-null  float64\n",
      " 4   property_value        148670 non-null  float64\n",
      " 5   income                148670 non-null  float64\n",
      " 6   LTV                   148670 non-null  float64\n",
      " 7   dtir1                 148670 non-null  float64\n",
      "dtypes: float64(8)\n",
      "memory usage: 9.1 MB\n"
     ]
    }
   ],
   "source": [
    "df_temp.info()"
   ]
  },
  {
   "cell_type": "code",
   "execution_count": 21,
   "metadata": {},
   "outputs": [
    {
     "name": "stdout",
     "output_type": "stream",
     "text": [
      "<class 'pandas.core.frame.DataFrame'>\n",
      "RangeIndex: 148670 entries, 0 to 148669\n",
      "Data columns (total 34 columns):\n",
      " #   Column                     Non-Null Count   Dtype  \n",
      "---  ------                     --------------   -----  \n",
      " 0   ID                         148670 non-null  int64  \n",
      " 1   year                       148670 non-null  int64  \n",
      " 2   loan_limit                 148670 non-null  object \n",
      " 3   Gender                     148670 non-null  object \n",
      " 4   approv_in_adv              148670 non-null  object \n",
      " 5   loan_type                  148670 non-null  object \n",
      " 6   loan_purpose               148670 non-null  object \n",
      " 7   Credit_Worthiness          148670 non-null  object \n",
      " 8   open_credit                148670 non-null  object \n",
      " 9   business_or_commercial     148670 non-null  object \n",
      " 10  loan_amount                148670 non-null  int64  \n",
      " 11  rate_of_interest           148670 non-null  float64\n",
      " 12  Interest_rate_spread       148670 non-null  float64\n",
      " 13  Upfront_charges            148670 non-null  float64\n",
      " 14  term                       148670 non-null  float64\n",
      " 15  Neg_ammortization          148670 non-null  object \n",
      " 16  interest_only              148670 non-null  object \n",
      " 17  lump_sum_payment           148670 non-null  object \n",
      " 18  property_value             148670 non-null  float64\n",
      " 19  construction_type          148670 non-null  object \n",
      " 20  occupancy_type             148670 non-null  object \n",
      " 21  Secured_by                 148670 non-null  object \n",
      " 22  total_units                148670 non-null  object \n",
      " 23  income                     148670 non-null  float64\n",
      " 24  credit_type                148670 non-null  object \n",
      " 25  Credit_Score               148670 non-null  int64  \n",
      " 26  co-applicant_credit_type   148670 non-null  object \n",
      " 27  age                        148670 non-null  object \n",
      " 28  submission_of_application  148670 non-null  object \n",
      " 29  LTV                        148670 non-null  float64\n",
      " 30  Region                     148670 non-null  object \n",
      " 31  Security_Type              148670 non-null  object \n",
      " 32  Status                     148670 non-null  int64  \n",
      " 33  dtir1                      148670 non-null  float64\n",
      "dtypes: float64(8), int64(5), object(21)\n",
      "memory usage: 38.6+ MB\n"
     ]
    }
   ],
   "source": [
    "for col in missing_columns:\n",
    "    df[col] = df_temp[col]\n",
    "df.info()"
   ]
  },
  {
   "cell_type": "code",
   "execution_count": null,
   "metadata": {},
   "outputs": [],
   "source": [
    "from sklearn.model_selection import train_test_split\n",
    "\n",
    "X_train, X_test, _, _ = train_test_split(X, )"
   ]
  }
 ],
 "metadata": {
  "kernelspec": {
   "display_name": "env3109",
   "language": "python",
   "name": "env3109"
  },
  "language_info": {
   "codemirror_mode": {
    "name": "ipython",
    "version": 3
   },
   "file_extension": ".py",
   "mimetype": "text/x-python",
   "name": "python",
   "nbconvert_exporter": "python",
   "pygments_lexer": "ipython3",
   "version": "3.10.9"
  },
  "orig_nbformat": 4
 },
 "nbformat": 4,
 "nbformat_minor": 2
}
